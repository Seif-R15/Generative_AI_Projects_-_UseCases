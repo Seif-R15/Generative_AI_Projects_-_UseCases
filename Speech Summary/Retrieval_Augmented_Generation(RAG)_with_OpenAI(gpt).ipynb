{
  "cells": [
    {
      "cell_type": "markdown",
      "metadata": {
        "id": "view-in-github",
        "colab_type": "text"
      },
      "source": [
        "<a href=\"https://colab.research.google.com/github/Seif-R15/Generative_AI_Projects_-_UseCases/blob/main/Retrieval_Augmented_Generation(RAG)_with_OpenAI(gpt).ipynb\" target=\"_parent\"><img src=\"https://colab.research.google.com/assets/colab-badge.svg\" alt=\"Open In Colab\"/></a>"
      ]
    },
    {
      "cell_type": "markdown",
      "id": "43ead32b-d4ab-431e-b64d-7a59b8962fae",
      "metadata": {
        "id": "43ead32b-d4ab-431e-b64d-7a59b8962fae"
      },
      "source": [
        "# Building Retrival Augmented Generation (RAG) using Pincone vector database, vector embedding, and gpt-3.5-turbo"
      ]
    },
    {
      "cell_type": "markdown",
      "id": "a229d9f9",
      "metadata": {
        "id": "a229d9f9"
      },
      "source": [
        "### Import  the Needed Packages"
      ]
    },
    {
      "cell_type": "code",
      "execution_count": null,
      "id": "c74d8975-53e1-41a3-a846-1fed3361a4b8",
      "metadata": {
        "height": 48,
        "id": "c74d8975-53e1-41a3-a846-1fed3361a4b8"
      },
      "outputs": [],
      "source": [
        "import warnings\n",
        "warnings.filterwarnings('ignore')"
      ]
    },
    {
      "cell_type": "code",
      "execution_count": null,
      "id": "e1382dbd-5b93-419e-ae16-735aa4e0f22a",
      "metadata": {
        "height": 167,
        "id": "e1382dbd-5b93-419e-ae16-735aa4e0f22a"
      },
      "outputs": [],
      "source": [
        "from datasets import load_dataset\n",
        "from openai import OpenAI\n",
        "from pinecone import Pinecone, ServerlessSpec\n",
        "from tqdm.auto import tqdm\n",
        "from DLAIUtils import Utils\n",
        "\n",
        "import ast\n",
        "import os\n",
        "import pandas as pd"
      ]
    },
    {
      "cell_type": "code",
      "execution_count": null,
      "id": "955e9783-9f33-4c09-8b10-ebee6b4a236e",
      "metadata": {
        "height": 65,
        "id": "955e9783-9f33-4c09-8b10-ebee6b4a236e"
      },
      "outputs": [],
      "source": [
        "# get api key\n",
        "utils = Utils()\n",
        "PINECONE_API_KEY = utils.get_pinecone_api_key()"
      ]
    },
    {
      "cell_type": "markdown",
      "id": "c79cdc21",
      "metadata": {
        "id": "c79cdc21"
      },
      "source": [
        "### Setup Pinecone"
      ]
    },
    {
      "cell_type": "code",
      "execution_count": null,
      "id": "73e4c29d-79ee-4d6c-8a78-c7d29077fe5b",
      "metadata": {
        "height": 217,
        "id": "73e4c29d-79ee-4d6c-8a78-c7d29077fe5b"
      },
      "outputs": [],
      "source": [
        "pinecone = Pinecone(api_key=PINECONE_API_KEY)\n",
        "\n",
        "utils = Utils()\n",
        "INDEX_NAME = utils.create_dlai_index_name('dl-ai')\n",
        "if INDEX_NAME in [index.name for index in pinecone.list_indexes()]:\n",
        "  pinecone.delete_index(INDEX_NAME)\n",
        "\n",
        "pinecone.create_index(name=INDEX_NAME, dimension=1536, metric='cosine',\n",
        "  spec=ServerlessSpec(cloud='aws', region='us-west-2'))\n",
        "\n",
        "index = pinecone.Index(INDEX_NAME)"
      ]
    },
    {
      "cell_type": "markdown",
      "id": "94f00979",
      "metadata": {
        "id": "94f00979"
      },
      "source": [
        "### Load the Dataset\n",
        "\n",
        "**Note:** To access the dataset, just copy the following two lines of code and run it (remember to uncomment them first before executing):\n",
        "\n",
        "#!wget -q -O lesson2-wiki.csv.zip \"https://www.dropbox.com/scl/fi/yxzmsrv2sgl249zcspeqb/lesson2-wiki.csv.zip?rlkey=paehnoxjl3s5x53d1bedt4pmc&dl=0\"\n",
        "\n",
        "#!unzip lesson2-wiki.csv.zip"
      ]
    },
    {
      "cell_type": "markdown",
      "id": "b059ccc3-f6ba-49dd-a42c-bd9a5bcfc4d3",
      "metadata": {
        "id": "b059ccc3-f6ba-49dd-a42c-bd9a5bcfc4d3"
      },
      "source": [
        "<p style=\"background-color:#fff1d7; padding:15px; \"> <b>(Note: <code>max_articles_num = 500</code>):</b> To achieve a more comprehensive context for the Language Learning Model, a larger number of articles is generally more beneficial. In this lab, we've initially set <code>max_articles_num</code> to 500 for speedier results, allowing you to observe the outcomes faster. Once you've done an initial run, consider increasing this value to 750 or 1,000. You'll likely notice that the context provided to the LLM becomes richer and better. You can experiment by gradually raising this variable for different queries to observe the improvements in the LLM's contextual understanding.</p>"
      ]
    },
    {
      "cell_type": "code",
      "execution_count": null,
      "id": "a372beb7-2322-4f6c-bb80-a9aa2c74fdaf",
      "metadata": {
        "height": 82,
        "id": "a372beb7-2322-4f6c-bb80-a9aa2c74fdaf",
        "outputId": "d691095d-3438-4340-df01-28cfd9a6db59"
      },
      "outputs": [
        {
          "data": {
            "text/html": [
              "<div>\n",
              "<style scoped>\n",
              "    .dataframe tbody tr th:only-of-type {\n",
              "        vertical-align: middle;\n",
              "    }\n",
              "\n",
              "    .dataframe tbody tr th {\n",
              "        vertical-align: top;\n",
              "    }\n",
              "\n",
              "    .dataframe thead th {\n",
              "        text-align: right;\n",
              "    }\n",
              "</style>\n",
              "<table border=\"1\" class=\"dataframe\">\n",
              "  <thead>\n",
              "    <tr style=\"text-align: right;\">\n",
              "      <th></th>\n",
              "      <th>id</th>\n",
              "      <th>metadata</th>\n",
              "      <th>values</th>\n",
              "    </tr>\n",
              "  </thead>\n",
              "  <tbody>\n",
              "    <tr>\n",
              "      <th>1</th>\n",
              "      <td>1-0</td>\n",
              "      <td>{'chunk': 0, 'source': 'https://simple.wikiped...</td>\n",
              "      <td>[-0.011254455894231796, -0.01698738895356655, ...</td>\n",
              "    </tr>\n",
              "    <tr>\n",
              "      <th>2</th>\n",
              "      <td>1-1</td>\n",
              "      <td>{'chunk': 1, 'source': 'https://simple.wikiped...</td>\n",
              "      <td>[-0.0015197008615359664, -0.007858820259571075...</td>\n",
              "    </tr>\n",
              "    <tr>\n",
              "      <th>3</th>\n",
              "      <td>1-2</td>\n",
              "      <td>{'chunk': 2, 'source': 'https://simple.wikiped...</td>\n",
              "      <td>[-0.009930099360644817, -0.012211072258651257,...</td>\n",
              "    </tr>\n",
              "    <tr>\n",
              "      <th>4</th>\n",
              "      <td>1-3</td>\n",
              "      <td>{'chunk': 3, 'source': 'https://simple.wikiped...</td>\n",
              "      <td>[-0.011600767262279987, -0.012608098797500134,...</td>\n",
              "    </tr>\n",
              "    <tr>\n",
              "      <th>5</th>\n",
              "      <td>1-4</td>\n",
              "      <td>{'chunk': 4, 'source': 'https://simple.wikiped...</td>\n",
              "      <td>[-0.026462381705641747, -0.016362832859158516,...</td>\n",
              "    </tr>\n",
              "  </tbody>\n",
              "</table>\n",
              "</div>"
            ],
            "text/plain": [
              "    id                                           metadata  \\\n",
              "1  1-0  {'chunk': 0, 'source': 'https://simple.wikiped...   \n",
              "2  1-1  {'chunk': 1, 'source': 'https://simple.wikiped...   \n",
              "3  1-2  {'chunk': 2, 'source': 'https://simple.wikiped...   \n",
              "4  1-3  {'chunk': 3, 'source': 'https://simple.wikiped...   \n",
              "5  1-4  {'chunk': 4, 'source': 'https://simple.wikiped...   \n",
              "\n",
              "                                              values  \n",
              "1  [-0.011254455894231796, -0.01698738895356655, ...  \n",
              "2  [-0.0015197008615359664, -0.007858820259571075...  \n",
              "3  [-0.009930099360644817, -0.012211072258651257,...  \n",
              "4  [-0.011600767262279987, -0.012608098797500134,...  \n",
              "5  [-0.026462381705641747, -0.016362832859158516,...  "
            ]
          },
          "execution_count": 5,
          "metadata": {},
          "output_type": "execute_result"
        }
      ],
      "source": [
        "max_articles_num = 500\n",
        "df = pd.read_csv('./data/wiki.csv', nrows=max_articles_num)\n",
        "df.head()\n"
      ]
    },
    {
      "cell_type": "markdown",
      "id": "fa307525",
      "metadata": {
        "id": "fa307525"
      },
      "source": [
        "### Prepare the Embeddings and Upsert to Pinecone on the Wikipedia dataset"
      ]
    },
    {
      "cell_type": "code",
      "execution_count": null,
      "id": "27ac4cb4-e900-4d9e-bfc1-cd0ada96ed80",
      "metadata": {
        "height": 201,
        "colab": {
          "referenced_widgets": [
            "b31234b7a2c84833b941a8ae41555551"
          ]
        },
        "id": "27ac4cb4-e900-4d9e-bfc1-cd0ada96ed80",
        "outputId": "6e96accf-9fa1-48db-8dd3-949ffaa666dd"
      },
      "outputs": [
        {
          "data": {
            "application/vnd.jupyter.widget-view+json": {
              "model_id": "b31234b7a2c84833b941a8ae41555551",
              "version_major": 2,
              "version_minor": 0
            },
            "text/plain": [
              "  0%|          | 0/500 [00:00<?, ?it/s]"
            ]
          },
          "metadata": {},
          "output_type": "display_data"
        }
      ],
      "source": [
        "prepped = []\n",
        "\n",
        "for i, row in tqdm(df.iterrows(), total=df.shape[0]):\n",
        "    meta = ast.literal_eval(row['metadata'])\n",
        "    prepped.append({'id':row['id'],\n",
        "                    'values':ast.literal_eval(row['values']),\n",
        "                    'metadata':meta})\n",
        "    if len(prepped) >= 250:\n",
        "        index.upsert(prepped)\n",
        "        prepped = []\n"
      ]
    },
    {
      "cell_type": "code",
      "execution_count": null,
      "id": "7180b6b2-ad7c-4a59-ab6c-046d21957343",
      "metadata": {
        "height": 31,
        "id": "7180b6b2-ad7c-4a59-ab6c-046d21957343",
        "outputId": "29796c0d-107c-4351-b17d-6a3c029dfa6e"
      },
      "outputs": [
        {
          "data": {
            "text/plain": [
              "{'dimension': 1536,\n",
              " 'index_fullness': 0.0,\n",
              " 'namespaces': {'': {'vector_count': 500}},\n",
              " 'total_vector_count': 500}"
            ]
          },
          "execution_count": 7,
          "metadata": {},
          "output_type": "execute_result"
        }
      ],
      "source": [
        "index.describe_index_stats()"
      ]
    },
    {
      "cell_type": "markdown",
      "id": "617fe45f",
      "metadata": {
        "id": "617fe45f"
      },
      "source": [
        "### Connect to OpenAI"
      ]
    },
    {
      "cell_type": "code",
      "execution_count": null,
      "id": "20f1922a-122e-4f3d-a9b4-6ab1e5a67195",
      "metadata": {
        "height": 115,
        "id": "20f1922a-122e-4f3d-a9b4-6ab1e5a67195"
      },
      "outputs": [],
      "source": [
        "OPENAI_API_KEY = utils.get_openai_api_key()\n",
        "openai_client = OpenAI(api_key=OPENAI_API_KEY)\n",
        "\n",
        "def get_embeddings(articles, model=\"text-embedding-ada-002\"):\n",
        "   return openai_client.embeddings.create(input = articles, model=model)"
      ]
    },
    {
      "cell_type": "markdown",
      "id": "f629efde",
      "metadata": {
        "id": "f629efde"
      },
      "source": [
        "### Run Your Query"
      ]
    },
    {
      "cell_type": "code",
      "execution_count": null,
      "id": "3f790629-f7e4-40e8-9f96-cfdd46cfde9c",
      "metadata": {
        "height": 149,
        "id": "3f790629-f7e4-40e8-9f96-cfdd46cfde9c",
        "outputId": "9289e0b8-3d6b-4daa-be5a-137dbdf5ad8f"
      },
      "outputs": [
        {
          "name": "stdout",
          "output_type": "stream",
          "text": [
            "How an ideal computer works \n",
            " Algorithmic information theory (how easily can a computer answer a question?)\n",
            " Complexity theory (how much time and memory does a computer need to answer a question?)\n",
            " Computability theory (can a computer do something?)\n",
            " Information theory (math that looks at data and how to process data)\n",
            " Theory of computation (how to answer questions on a computer using algorithms)\n",
            " Graph theory (math that looks for directions from one point to another)\n",
            " Type theory (what kinds of data should computers work with?)\n",
            " Denotational semantics (math for computer languages)\n",
            " Algorithms (looks at how to answer a question)\n",
            " Compilers (turning words into computer programs)\n",
            " Lexical analysis (how to turn words into data)\n",
            " Microprogramming (how to control the most important part of a computer)\n",
            " Operating systems (big computer programs, e.g. Linux, Microsoft Windows, Mac OS)  to control the computer hardware and software.\n",
            " Cryptography (hiding data)\n",
            " Parallel computing (many instructions are carried out simultaneously)\n",
            " Theoretical computer science (how information can be processed)\n",
            "\n",
            "Computer science at work \n",
            " Artificial intelligence (making computers learn and talk, similar to people)\n",
            " Computer architecture (building a computer)\n",
            " Computer graphics (making pictures with computers)\n",
            " Computer networks (joining computers to other computers)\n",
            " Computer program (how to tell a computer to do something)\n",
            " Computer programming (writing, or making, computer programs)\n",
            " Computer security (making computers and their data safe)\n",
            " Databases (a way to sort and keep data)\n",
            " Data structure (how to build or group data)\n",
            " Distributed computing (using more than one computer to solve a difficult problem)\n",
            " Information retrieval (getting data back from a computer)\n",
            " Programming languages (languages that a programmer uses to make computer programs)\n",
            " Program specification (what a program is supposed to do)\n",
            " Program verification (making sure a computer program does what it should do, see debugging)\n",
            " Robots (using computers to control machines)\n",
            " Software engineering (how programmers write programs)\n",
            "A simple but slow algorithm is: pick up two cards and check whether they are sorted correctly. If they are not, reverse them. Then do it again with another two, and repeat them all until they are all sorted. This \"bubble sort\" method will work, but it will take a very long time.\n",
            " \n",
            "A better algorithm is: find the first card with the smallest suit and smallest number (2 of diamonds), and place it at the start. After this, look for the second card, and so on. This algorithm is much faster, and does not need much space. This algorithm is a \"selection sort\".\n",
            "\n",
            "Ada Lovelace wrote the first computer algorithm in 1843, for a computer that was never finished. Computers began during World War II. Computer science separated from the other sciences during the 1960s and 1970s. Now, computer science has its own methods, and has its own technical terms. It is related to electrical engineering, mathematics, and language science.\n",
            "\n",
            "Computer science looks at the theoretical parts of computers. Computer engineering looks at the physical parts of computers (hardware). Software engineering looks at the use of computer programs and how to make them.\n",
            "\n",
            "Parts of computer science\n",
            "\n",
            "Central math \n",
            " Boolean algebra (when something can only be true or false)\n",
            " Computer numbering formats (how computers count)\n",
            " Discrete mathematics (math with numbers a person can count)\n",
            " Symbolic logic (clear ways of talking about math)\n",
            "Order of operations (which math operations are performed first)\n",
            "Computer science deals with the theoretical foundations of computation and practical techniques for their application.\n",
            "Computer science is the study of manipulating, managing, transforming and encoding information.\n",
            "\n",
            "There are many different areas in computer science. Some areas consider problems in an abstract manner, while some need special machines, called computers.\n",
            "\n",
            "A person who works with computers will often need mathematics, science, and logic in order to design and work with computers.\n",
            "\n",
            "Common tasks for a computer scientist\n",
            "\n",
            "Asking questions \n",
            "This is so people can find new and easier ways to do things, and the way to approach problems with this information.\n",
            "\n",
            "While computers can do some things easily (like simple math, or sorting out a list of names from A-to-Z), computers cannot answer questions when there is not enough information, or when there is no real answer. Also, computers may take too much time to finish long tasks. For example, it may take too long to find the shortest way through all of the towns in the USA - so instead a computer will try to make a close guess. A computer will answer these simpler questions much faster.\n",
            "\n",
            "Answering the question \n",
            "Algorithms are a specific set of instructions or steps on how to complete a task. For example, a computer scientist wants to sort playing cards. There are many ways to sort them - by suits (diamonds, clubs, hearts, and spades) or by numbers (2, 3, 4, 5, 6, 7, 8, 9, 10, Jack, Queen, King, and Ace).  By deciding on a set of steps to sort the cards, the scientist has created an algorithm. The scientist then needs to test whether this algorithm works. This shows how well and how fast the algorithm sorts cards.\n",
            "History \n",
            "Early forms of algebra were developed by the Babylonians and the Greek geometers such as Hero of Alexandria. However the word \"algebra\" is a Latin form of the Arabic word Al-Jabr (\"casting\") and comes from a mathematics book Al-Maqala fi Hisab-al Jabr wa-al-Muqabilah, (\"Essay on the Computation of Casting and Equation\") written in the 9th century by a Persian mathematician, Muhammad ibn Mūsā al-Khwārizmī, who was a Muslim born in Khwarizm in Uzbekistan. He flourished under Al-Ma'moun in Baghdad, Iraq through 813-833 AD, and died around 840 AD. The book was brought into Europe and translated into Latin in the 12th century. The book was then given the name 'Algebra'. (The ending of the mathematician's name, al-Khwarizmi, was changed into a word easier to say in Latin, and became the English word algorithm).\n",
            "\n",
            "Examples\n",
            "\n",
            "Here is a simple example of an algebra problem:\n",
            "\n",
            "Sue has 12 candies, and Ann has 24 candies. They decide to share so that they have the same number of candies.  How many candies will each have?\n",
            "\n",
            "These are the steps you can use to solve the problem:\n",
            "References\n",
            "\n",
            "Other websites \n",
            "\n",
            " Khan Academy: Algebra theory and practice\n",
            " algebrarules.com: A free place to learn the basics of Algebra\n",
            " Khan Academy: Origins of Algebra, free online micro lectures \n",
            "\n",
            " \n",
            "Fields of mathematics\n",
            "What computer science does \n",
            " Benchmark (testing a computer's power or speed)\n",
            " Computer vision (how computers can see and understand images)\n",
            " Collision detection (how computers help robots move without hitting something)\n",
            " Data compression (making data smaller)\n",
            " Data structures (how computers group and sort data)\n",
            " Data acquisition (putting data into computers)\n",
            " Design patterns (answers to common software engineering problems)\n",
            " Digital signal processing (cleaning and \"looking\" at data)\n",
            " File formats (how a file is arranged)\n",
            " Human-computer interaction (how humans use computers)\n",
            " Information security (keeping data safe from other people)\n",
            " Internet (a large network that joins almost all computers)\n",
            " Web applications (computer programs on the Internet)\n",
            " Optimization (making computer programs work better)\n",
            " Software metrics (ways to measure computer programs, such as counting lines of code or number of operations)\n",
            " VLSI design (the making of a very large and complex computer system)\n",
            "\n",
            "Related pages\n",
            " Computing\n",
            " Formal language\n",
            " Turing Award\n",
            " Computer jargon\n",
            " Encyclopedia of Computer Terms\n",
            "\n",
            "References\n",
            "Algebra (from Arabic: الجبر‎, transliterated \"al-jabr\", meaning \"reunion of broken parts\") is a part of mathematics. It uses variables to represent a value that is not yet known. When an equals sign (=) is used, this is called an equation. A very simple equation using a variable is: . In this example, , or it could also be said that \" equals five\". This is called solving for .\n",
            "\n",
            "Besides equations, there are inequalities (less than and greater than). A special type of equation is called the function. This is often used in making graphs because it always turns one input into one output.\n",
            "\n",
            "Algebra can be used to solve real problems because the rules of algebra work in real life and numbers can be used to represent the values of real things. Physics, engineering and computer programming are areas that use algebra all the time. It is also useful to know in surveying, construction and business, especially accounting.\n",
            "\n",
            "People who do algebra use the rules of numbers and mathematical operations used on numbers. The simplest are adding, subtracting, multiplying, and dividing. More advanced operations involve exponents, starting with squares and square roots.  \n",
            "\n",
            "Algebra was first used to solve equations and inequalities. Two examples are linear equations (the equation of a straight line,  or ) and quadratic equations, which has variables that are squared (multiplied by itself, for example: , , or ).\n",
            "The abacus, the slide rule, the astrolabe and the Antikythera mechanism (which dates from about 150-100 BC) are examples of automated calculation machines.\n",
            "\n",
            "Programming \n",
            "\n",
            "People do not want a machine that would do the same thing over and over again. For example, a music box is a machine that plays the same music over and over again. Some people wanted to be able to tell their machine to do different things. For example, they wanted to tell the music box to play different music every time. They wanted to be able to program the music box- to order the music box to play different music. This part of computer history is called the \"history of programmable machines\" which is a fancy phrase for \"The history of machines that I can order to do different things if I know how to speak their language.\"\n",
            "\n",
            "One of the first examples of this was built by Hero of Alexandria (c. 10–70 AD). He built a mechanical theater which performed a play lasting 10 minutes and was operated by a complex system of ropes and drums. These ropes and drums were the language of the machine- they told what the machine did and when. Some people argue that this is the first programmable machine.\n",
            "\n",
            "Some people disagree on which early computer is programmable. Many say the \"castle clock\", an astronomical clock invented by Al-Jazari in 1206, is the first known programmable analog computer. The length of day and night could be adjusted every day in order to account for the changing lengths of day and night throughout the year. Some count this daily adjustment as computer programming.\n",
            "\n",
            "Others say the first computer was made by Charles Babbage. Ada Lovelace is considered to be the first programmer.\n",
            "When we multiply a number and a variable in algebra, we can simply write the number in front of the letter: . When the number is 1, then it is not written because 1 times any number is that number () and so it is not needed. And when it is 0, we can completely remove the terms, because 0 times any number is zero ().\n",
            "\n",
            "As a side note, you do not have to use the letters  or  in algebra. Variables are just symbols that mean some unknown number or value, so you can use any letter for a variable (except  (Euler's number) and  (Imaginary unit), because these are mathematical constants).  and  are the most common, though.\n",
            "\n",
            "Functions and Graphs \n",
            "\n",
            "An important part of algebra is the study of functions, since they often appear in equations that we are trying to solve. A function is like a machine you can put a number (or numbers) into and get a certain number (or numbers) out. When using functions, graphs can be powerful tools in helping us to study the solutions to equations. \n",
            "\n",
            "A graph is a picture that shows all the values of the variables that make the equation or inequality true. Usually this is easy to make when there are only one or two variables. The graph is often a line, and if the line does not bend or go straight up-and-down it can be described by the basic formula . The variable  is the y-intercept of the graph (where the line crosses the vertical axis) and  is the slope or steepness of the line. This formula applies to the coordinates of a graph, where each point on the line is written (, ).\n",
            "Working methods \n",
            "Computers store data and the instructions as numbers, because computers can do things with numbers very quickly. These data are stored as binary symbols (1s and 0s). A 1 or a 0 symbol stored by a computer is called a bit, which comes from the words binary digit. Computers can use many bits together to represent instructions and the data that these instructions use. A list of instructions is called a program and is stored on the computer's hard disk. Computers work through the program by using a central processing unit, and they use fast memory called RAM (also known as Random Access Memory) as a space to store the instructions and data while they are doing this. When the computer wants to store the results of the program for later, it uses the hard disk because things stored on a hard disk can still be remembered after the computer is turned off.\n",
            "\n",
            "An operating system tells the computer how to understand what jobs it has to do, how to do these jobs, and how to tell people the results. Millions of computers may be using the same operating system, while each computer can have its own application programs to do what its user needs. Using the same operating systems makes it easy to learn how to use computers for new things. A user who needs to use a computer for something different, can learn how to use a new application program. Some operating systems can have simple command lines or a fully user-friendly GUI.\n",
            "\n",
            "The Internet \n",
            "One of the most important jobs that computers do for people is helping with communication. Communication is how people share information. Computers have helped people move forward in science, medicine, business, and learning, because they let experts from anywhere in the world work with each other and share information. They also let other people communicate with each other, do their jobs almost anywhere, learn about almost anything, or share their opinions with each other. The Internet is the thing that lets people communicate between their computers.\n"
          ]
        }
      ],
      "source": [
        "query = \"How an Algoritm works and what is an Algorithm?\"\n",
        "\n",
        "embed = get_embeddings([query])\n",
        "res = index.query(vector=embed.data[0].embedding, top_k=3, include_metadata=True)\n",
        "text = [r['metadata']['text'] for r in res['matches']]\n",
        "print('\\n'.join(text))\n"
      ]
    },
    {
      "cell_type": "markdown",
      "id": "26ee483a",
      "metadata": {
        "id": "26ee483a"
      },
      "source": [
        "### Build the Prompt"
      ]
    },
    {
      "cell_type": "code",
      "execution_count": null,
      "id": "92cdddce-9a39-4ffd-823c-e91b7af48cf5",
      "metadata": {
        "height": 421,
        "id": "92cdddce-9a39-4ffd-823c-e91b7af48cf5",
        "outputId": "236b3f6b-926a-404b-b83b-af2557a7d1d0"
      },
      "outputs": [
        {
          "name": "stdout",
          "output_type": "stream",
          "text": [
            "Answer the question based on the context below.\n",
            "\n",
            "Context:\n",
            "How an ideal computer works \n",
            " Algorithmic information theory (how easily can a computer answer a question?)\n",
            " Complexity theory (how much time and memory does a computer need to answer a question?)\n",
            " Computability theory (can a computer do something?)\n",
            " Information theory (math that looks at data and how to process data)\n",
            " Theory of computation (how to answer questions on a computer using algorithms)\n",
            " Graph theory (math that looks for directions from one point to another)\n",
            " Type theory (what kinds of data should computers work with?)\n",
            " Denotational semantics (math for computer languages)\n",
            " Algorithms (looks at how to answer a question)\n",
            " Compilers (turning words into computer programs)\n",
            " Lexical analysis (how to turn words into data)\n",
            " Microprogramming (how to control the most important part of a computer)\n",
            " Operating systems (big computer programs, e.g. Linux, Microsoft Windows, Mac OS)  to control the computer hardware and software.\n",
            " Cryptography (hiding data)\n",
            " Parallel computing (many instructions are carried out simultaneously)\n",
            " Theoretical computer science (how information can be processed)\n",
            "\n",
            "Computer science at work \n",
            " Artificial intelligence (making computers learn and talk, similar to people)\n",
            " Computer architecture (building a computer)\n",
            " Computer graphics (making pictures with computers)\n",
            " Computer networks (joining computers to other computers)\n",
            " Computer program (how to tell a computer to do something)\n",
            " Computer programming (writing, or making, computer programs)\n",
            " Computer security (making computers and their data safe)\n",
            " Databases (a way to sort and keep data)\n",
            " Data structure (how to build or group data)\n",
            " Distributed computing (using more than one computer to solve a difficult problem)\n",
            " Information retrieval (getting data back from a computer)\n",
            " Programming languages (languages that a programmer uses to make computer programs)\n",
            " Program specification (what a program is supposed to do)\n",
            " Program verification (making sure a computer program does what it should do, see debugging)\n",
            " Robots (using computers to control machines)\n",
            " Software engineering (how programmers write programs)\n",
            "\n",
            "---\n",
            "\n",
            "A simple but slow algorithm is: pick up two cards and check whether they are sorted correctly. If they are not, reverse them. Then do it again with another two, and repeat them all until they are all sorted. This \"bubble sort\" method will work, but it will take a very long time.\n",
            " \n",
            "A better algorithm is: find the first card with the smallest suit and smallest number (2 of diamonds), and place it at the start. After this, look for the second card, and so on. This algorithm is much faster, and does not need much space. This algorithm is a \"selection sort\".\n",
            "\n",
            "Ada Lovelace wrote the first computer algorithm in 1843, for a computer that was never finished. Computers began during World War II. Computer science separated from the other sciences during the 1960s and 1970s. Now, computer science has its own methods, and has its own technical terms. It is related to electrical engineering, mathematics, and language science.\n",
            "\n",
            "Computer science looks at the theoretical parts of computers. Computer engineering looks at the physical parts of computers (hardware). Software engineering looks at the use of computer programs and how to make them.\n",
            "\n",
            "Parts of computer science\n",
            "\n",
            "Central math \n",
            " Boolean algebra (when something can only be true or false)\n",
            " Computer numbering formats (how computers count)\n",
            " Discrete mathematics (math with numbers a person can count)\n",
            " Symbolic logic (clear ways of talking about math)\n",
            "Order of operations (which math operations are performed first)\n",
            "\n",
            "---\n",
            "\n",
            "Computer science deals with the theoretical foundations of computation and practical techniques for their application.\n",
            "Computer science is the study of manipulating, managing, transforming and encoding information.\n",
            "\n",
            "There are many different areas in computer science. Some areas consider problems in an abstract manner, while some need special machines, called computers.\n",
            "\n",
            "A person who works with computers will often need mathematics, science, and logic in order to design and work with computers.\n",
            "\n",
            "Common tasks for a computer scientist\n",
            "\n",
            "Asking questions \n",
            "This is so people can find new and easier ways to do things, and the way to approach problems with this information.\n",
            "\n",
            "While computers can do some things easily (like simple math, or sorting out a list of names from A-to-Z), computers cannot answer questions when there is not enough information, or when there is no real answer. Also, computers may take too much time to finish long tasks. For example, it may take too long to find the shortest way through all of the towns in the USA - so instead a computer will try to make a close guess. A computer will answer these simpler questions much faster.\n",
            "\n",
            "Answering the question \n",
            "Algorithms are a specific set of instructions or steps on how to complete a task. For example, a computer scientist wants to sort playing cards. There are many ways to sort them - by suits (diamonds, clubs, hearts, and spades) or by numbers (2, 3, 4, 5, 6, 7, 8, 9, 10, Jack, Queen, King, and Ace).  By deciding on a set of steps to sort the cards, the scientist has created an algorithm. The scientist then needs to test whether this algorithm works. This shows how well and how fast the algorithm sorts cards.\n",
            "\n",
            "---\n",
            "\n",
            "History \n",
            "Early forms of algebra were developed by the Babylonians and the Greek geometers such as Hero of Alexandria. However the word \"algebra\" is a Latin form of the Arabic word Al-Jabr (\"casting\") and comes from a mathematics book Al-Maqala fi Hisab-al Jabr wa-al-Muqabilah, (\"Essay on the Computation of Casting and Equation\") written in the 9th century by a Persian mathematician, Muhammad ibn Mūsā al-Khwārizmī, who was a Muslim born in Khwarizm in Uzbekistan. He flourished under Al-Ma'moun in Baghdad, Iraq through 813-833 AD, and died around 840 AD. The book was brought into Europe and translated into Latin in the 12th century. The book was then given the name 'Algebra'. (The ending of the mathematician's name, al-Khwarizmi, was changed into a word easier to say in Latin, and became the English word algorithm).\n",
            "\n",
            "Examples\n",
            "\n",
            "Here is a simple example of an algebra problem:\n",
            "\n",
            "Sue has 12 candies, and Ann has 24 candies. They decide to share so that they have the same number of candies.  How many candies will each have?\n",
            "\n",
            "These are the steps you can use to solve the problem:\n",
            "\n",
            "---\n",
            "\n",
            "A brilliant mathematician and cryptographer Alan was to become the founder of modern-day computer science and artificial intelligence; designing a machine at Bletchley Park to break secret Enigma encrypted messages used by the Nazi German war machine to protect sensitive commercial, diplomatic and military communications during World War 2. Thus, Turing made the single biggest contribution to the Allied victory in the war against Nazi Germany, possibly saving the lives of an estimated 2 million people, through his effort in shortening World War II.\n",
            "\n",
            "In 2013, almost 60 years later, Turing received a posthumous Royal Pardon from Queen Elizabeth II. Today, the “Turing law” grants an automatic pardon to men who died before the law came into force, making it possible for living convicted gay men to seek pardons for offences now no longer on the statute book.\n",
            "\n",
            "Alas, Turing accidentally or otherwise lost his life in 1954, having been subjected by a British court to chemical castration, thus avoiding a custodial sentence. He is known to have ended his life at the age of 41 years, by eating an apple laced with cyanide.\n",
            "\n",
            "Career \n",
            "Turing was one of the people who worked on the first computers. He created the theoretical  Turing machine in 1936. The machine was imaginary, but it included the idea of a computer program.\n",
            "\n",
            "Turing was interested in artificial intelligence. He proposed the Turing test, to say when a machine could be called \"intelligent\". A computer could be said to \"think\" if a human talking with it could not tell it was a machine.\n",
            "\n",
            "---\n",
            "\n",
            "References\n",
            "\n",
            "Other websites \n",
            "\n",
            " Khan Academy: Algebra theory and practice\n",
            " algebrarules.com: A free place to learn the basics of Algebra\n",
            " Khan Academy: Origins of Algebra, free online micro lectures \n",
            "\n",
            " \n",
            "Fields of mathematics\n",
            "\n",
            "---\n",
            "\n",
            "What computer science does \n",
            " Benchmark (testing a computer's power or speed)\n",
            " Computer vision (how computers can see and understand images)\n",
            " Collision detection (how computers help robots move without hitting something)\n",
            " Data compression (making data smaller)\n",
            " Data structures (how computers group and sort data)\n",
            " Data acquisition (putting data into computers)\n",
            " Design patterns (answers to common software engineering problems)\n",
            " Digital signal processing (cleaning and \"looking\" at data)\n",
            " File formats (how a file is arranged)\n",
            " Human-computer interaction (how humans use computers)\n",
            " Information security (keeping data safe from other people)\n",
            " Internet (a large network that joins almost all computers)\n",
            " Web applications (computer programs on the Internet)\n",
            " Optimization (making computer programs work better)\n",
            " Software metrics (ways to measure computer programs, such as counting lines of code or number of operations)\n",
            " VLSI design (the making of a very large and complex computer system)\n",
            "\n",
            "Related pages\n",
            " Computing\n",
            " Formal language\n",
            " Turing Award\n",
            " Computer jargon\n",
            " Encyclopedia of Computer Terms\n",
            "\n",
            "References\n",
            "\n",
            "---\n",
            "\n",
            "The abacus, the slide rule, the astrolabe and the Antikythera mechanism (which dates from about 150-100 BC) are examples of automated calculation machines.\n",
            "\n",
            "Programming \n",
            "\n",
            "People do not want a machine that would do the same thing over and over again. For example, a music box is a machine that plays the same music over and over again. Some people wanted to be able to tell their machine to do different things. For example, they wanted to tell the music box to play different music every time. They wanted to be able to program the music box- to order the music box to play different music. This part of computer history is called the \"history of programmable machines\" which is a fancy phrase for \"The history of machines that I can order to do different things if I know how to speak their language.\"\n",
            "\n",
            "One of the first examples of this was built by Hero of Alexandria (c. 10–70 AD). He built a mechanical theater which performed a play lasting 10 minutes and was operated by a complex system of ropes and drums. These ropes and drums were the language of the machine- they told what the machine did and when. Some people argue that this is the first programmable machine.\n",
            "\n",
            "Some people disagree on which early computer is programmable. Many say the \"castle clock\", an astronomical clock invented by Al-Jazari in 1206, is the first known programmable analog computer. The length of day and night could be adjusted every day in order to account for the changing lengths of day and night throughout the year. Some count this daily adjustment as computer programming.\n",
            "\n",
            "Others say the first computer was made by Charles Babbage. Ada Lovelace is considered to be the first programmer.\n",
            "\n",
            "---\n",
            "\n",
            "Alan Mathison Turing OBE FRS (London, 23 June 1912 – Wilmslow, Cheshire, 7 June 1954) was an English mathematician and computer scientist. He was born in Maida Vale, London.\n",
            "\n",
            "Early life and family \n",
            "Alan Turing was born in Maida Vale, London on 23 June 1912. His father was part of a family of merchants from Scotland. His mother, Ethel Sara, was the daughter of an engineer.\n",
            "\n",
            "Education \n",
            "Turing went to St. Michael's, a school at 20 Charles Road, St Leonards-on-sea, when he was five years old.\n",
            "\"This is only a foretaste of what is to come, and only the shadow of what is going to be.” – Alan Turing.\n",
            "\n",
            "The Stoney family were once prominent landlords, here in North Tipperary. His mother Ethel Sara Stoney (1881–1976) was daughter of Edward Waller Stoney (Borrisokane, North Tipperary) and Sarah Crawford (Cartron Abbey, Co. Longford); Protestant Anglo-Irish gentry.\n",
            "\n",
            "Educated in Dublin at Alexandra School and College; on October 1st 1907 she married Julius Mathison Turing, latter son of Reverend John Robert Turing and Fanny Boyd, in Dublin. Born on June 23rd 1912, Alan Turing would go on to be regarded as one of the greatest figures of the twentieth century.\n",
            "\n",
            "---\n",
            "\n",
            "When we multiply a number and a variable in algebra, we can simply write the number in front of the letter: . When the number is 1, then it is not written because 1 times any number is that number () and so it is not needed. And when it is 0, we can completely remove the terms, because 0 times any number is zero ().\n",
            "\n",
            "As a side note, you do not have to use the letters  or  in algebra. Variables are just symbols that mean some unknown number or value, so you can use any letter for a variable (except  (Euler's number) and  (Imaginary unit), because these are mathematical constants).  and  are the most common, though.\n",
            "\n",
            "Functions and Graphs \n",
            "\n",
            "An important part of algebra is the study of functions, since they often appear in equations that we are trying to solve. A function is like a machine you can put a number (or numbers) into and get a certain number (or numbers) out. When using functions, graphs can be powerful tools in helping us to study the solutions to equations. \n",
            "\n",
            "A graph is a picture that shows all the values of the variables that make the equation or inequality true. Usually this is easy to make when there are only one or two variables. The graph is often a line, and if the line does not bend or go straight up-and-down it can be described by the basic formula . The variable  is the y-intercept of the graph (where the line crosses the vertical axis) and  is the slope or steepness of the line. This formula applies to the coordinates of a graph, where each point on the line is written (, ).\n",
            "\n",
            "Question: write an article titled: How an Algoritm works and what is an Algorithm?\n",
            "Answer:\n"
          ]
        }
      ],
      "source": [
        "query = \"write an article titled: How an Algoritm works and what is an Algorithm?\"\n",
        "embed = get_embeddings([query])\n",
        "res = index.query(vector=embed.data[0].embedding, top_k=3, include_metadata=True)\n",
        "\n",
        "contexts = [\n",
        "    x['metadata']['text'] for x in res['matches']\n",
        "]\n",
        "\n",
        "prompt_start = (\n",
        "    \"Answer the question based on the context below.\\n\\n\"+\n",
        "    \"Context:\\n\"\n",
        ")\n",
        "\n",
        "prompt_end = (\n",
        "    f\"\\n\\nQuestion: {query}\\nAnswer:\"\n",
        ")\n",
        "\n",
        "prompt = (\n",
        "    prompt_start + \"\\n\\n---\\n\\n\".join(contexts) +\n",
        "    prompt_end\n",
        ")\n",
        "\n",
        "print(prompt)"
      ]
    },
    {
      "cell_type": "markdown",
      "id": "c457d658",
      "metadata": {
        "id": "c457d658"
      },
      "source": [
        "### Get the Summary"
      ]
    },
    {
      "cell_type": "code",
      "execution_count": null,
      "id": "1cd1b8ed-99b6-4c47-a784-da4192aa6e6e",
      "metadata": {
        "height": 218,
        "id": "1cd1b8ed-99b6-4c47-a784-da4192aa6e6e",
        "outputId": "726f6d2c-ae6c-47e6-a8c1-9040a90b4fca"
      },
      "outputs": [
        {
          "name": "stdout",
          "output_type": "stream",
          "text": [
            "--------------------------------------------------------------------------------\n",
            "\n",
            "\n",
            "An algorithm is a set of instructions or steps used to solve a problem or complete a task. It is like a recipe that tells a computer what to do in order to achieve a desired outcome. Algorithms are an essential part of computer science and are used in a wide range of applications, from simple calculations to complex problem-solving.\n",
            "\n",
            "The concept of an algorithm has been around for centuries, with early examples dating back to ancient civilizations such as the Babylonians and Greeks. However, the term \"algorithm\" was first coined in the 9th century by a Persian mathematician, Muhammad ibn Mūsā al-Khwārizmī. He used the term in his book \"Essay on the Computation of Casting and Equation\" to describe a method for solving mathematical problems.\n",
            "\n",
            "Today, algorithms are used in various fields, including computer science, mathematics, and engineering. They are also an integral part of everyday life, from the algorithms used by search engines to find information on the internet, to the algorithms used by social media platforms to personalize our news feeds.\n",
            "\n",
            "So, how does an algorithm work? Let's take a simple example of an algorithm used to sort a deck of playing cards. The algorithm would start by picking up two cards and checking if they are in the correct order. If they are not, the algorithm would reverse their positions. This process would then be repeated with another two cards until the entire deck is sorted. This method is known as \"bubble sort\" and while it may work, it is not the most efficient algorithm.\n",
            "\n",
            "A better algorithm for sorting cards would be to find the first card with the smallest suit and number and place it at the beginning of the deck. This process would then be repeated for the second card, and so on until the entire deck is sorted. This method is known as \"selection sort\" and is much faster and requires less space.\n",
            "\n",
            "In computer science, there are various types of algorithms, each with its own purpose and function. Some common types include sorting algorithms, searching algorithms, and optimization algorithms. These algorithms are used to solve different types of problems and are constantly being improved and developed.\n",
            "\n",
            "In conclusion, an algorithm is a set of instructions used to solve a problem or complete a task. They are an essential part of computer science and are used in various fields and applications. As technology continues to advance, the use of algorithms will only continue to grow, making them an integral part of our daily lives.\n"
          ]
        }
      ],
      "source": [
        "res = openai_client.completions.create(\n",
        "    model=\"gpt-3.5-turbo-instruct\",\n",
        "    prompt=prompt,\n",
        "    temperature=0,\n",
        "    max_tokens=636,\n",
        "    top_p=1,\n",
        "    frequency_penalty=0,\n",
        "    presence_penalty=0,\n",
        "    stop=None\n",
        ")\n",
        "print('-' * 80)\n",
        "print(res.choices[0].text)"
      ]
    },
    {
      "cell_type": "code",
      "execution_count": null,
      "id": "7e985a43-5d35-4173-9ae1-3efef399c379",
      "metadata": {
        "height": 31,
        "id": "7e985a43-5d35-4173-9ae1-3efef399c379"
      },
      "outputs": [],
      "source": []
    }
  ],
  "metadata": {
    "kernelspec": {
      "display_name": "Python 3 (ipykernel)",
      "language": "python",
      "name": "python3"
    },
    "language_info": {
      "codemirror_mode": {
        "name": "ipython",
        "version": 3
      },
      "file_extension": ".py",
      "mimetype": "text/x-python",
      "name": "python",
      "nbconvert_exporter": "python",
      "pygments_lexer": "ipython3",
      "version": "3.10.13"
    },
    "colab": {
      "provenance": [],
      "include_colab_link": true
    }
  },
  "nbformat": 4,
  "nbformat_minor": 5
}
